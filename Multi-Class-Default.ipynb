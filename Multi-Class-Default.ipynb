{
 "cells": [
  {
   "cell_type": "markdown",
   "id": "fbad7e04-62f2-4456-a492-3870e657d05e",
   "metadata": {},
   "source": [
    "## Data Preprocessing"
   ]
  },
  {
   "cell_type": "code",
   "execution_count": 1,
   "id": "e93f9382-e8b7-4a9e-a6e7-5dfe22063031",
   "metadata": {},
   "outputs": [],
   "source": [
    "# Importing the Libraries\n",
    "import numpy as np\n",
    "import matplotlib.pyplot as plt\n",
    "import pandas as pd\n",
    "from sklearn.preprocessing import StandardScaler\n",
    "from sklearn.neighbors import KNeighborsClassifier\n",
    "from sklearn.svm import SVC\n",
    "import time\n",
    "from sklearn.metrics import accuracy_score, ConfusionMatrixDisplay, confusion_matrix, precision_score, recall_score, f1_score\n",
    "from imblearn.over_sampling import SMOTE"
   ]
  },
  {
   "cell_type": "code",
   "execution_count": 2,
   "id": "c384c695-8979-40c2-af79-44130952c138",
   "metadata": {},
   "outputs": [],
   "source": [
    "# Multi-class\n",
    "def fix_label(dataset):\n",
    "    # fix class (Dos,Probe,R2L,U2L)\n",
    "    dataset['label'].replace(['apache2','back','mailbomb','processtable','teardrop',\n",
    "                              'smurf','land','neptune','pod','udpstorm'],'Dos',inplace=True)\n",
    "    dataset['label'].replace(['ipsweep','satan','nmap','portsweep',\n",
    "                              'mscan','saint'],'Probe',inplace=True)\n",
    "    dataset['label'].replace(['ftp_write','guess_passwd','imap','spy',\n",
    "                              'warezclient','warezmaster','multihop','phf',\n",
    "                              'named','sendmail','snmpguess','xlock','xsnoop',\n",
    "                              'worm','snmpgetattack','httptunnel'],'R2L',inplace=True)\n",
    "    dataset['label'].replace(['buffer_overflow','loadmodule','perl','rootkit',\n",
    "                              'ps','xterm','sqlattack'],'U2R',inplace=True)\n",
    "    dataset['label'].replace(['normal'],'Normal',inplace=True)"
   ]
  },
  {
   "cell_type": "code",
   "execution_count": 3,
   "id": "bceb7c10-09c4-4c3d-b7e8-111d36ba1beb",
   "metadata": {},
   "outputs": [],
   "source": [
    "column_names = ['duration', 'protocol_type', 'service', 'flag', 'src_bytes',\n",
    "       'dst_bytes', 'land', 'wrong_fragment', 'urgent', 'hot',\n",
    "       'num_failed_logins', 'logged_in', 'num_compromised', 'root_shell',\n",
    "       'su_attempted', 'num_root', 'num_file_creations', 'num_shells',\n",
    "       'num_access_files', 'num_outbound_cmds', 'is_host_login',\n",
    "       'is_guest_login', 'count', 'srv_count', 'serror_rate',\n",
    "       'srv_serror_rate', 'rerror_rate', 'srv_rerror_rate', 'same_srv_rate',\n",
    "       'diff_srv_rate', 'srv_diff_host_rate', 'dst_host_count',\n",
    "       'dst_host_srv_count', 'dst_host_same_srv_rate',\n",
    "       'dst_host_diff_srv_rate', 'dst_host_same_src_port_rate',\n",
    "       'dst_host_srv_diff_host_rate', 'dst_host_serror_rate',\n",
    "       'dst_host_srv_serror_rate', 'dst_host_rerror_rate',\n",
    "       'dst_host_srv_rerror_rate', 'label' , 'difficulty_level']"
   ]
  },
  {
   "cell_type": "code",
   "execution_count": null,
   "id": "5903879e-99a4-442a-9539-6d5c49926bc1",
   "metadata": {},
   "outputs": [],
   "source": []
  },
  {
   "cell_type": "code",
   "execution_count": 4,
   "id": "eb8167a3-edd5-4c8a-9940-e6399bac3d69",
   "metadata": {},
   "outputs": [],
   "source": [
    "# Read Train Dataset\n",
    "trainDataset = pd.read_csv('./datasets/KDDTrain+.csv', header=None, names=column_names)\n",
    "# Remove last column Difficult level\n",
    "del trainDataset['difficulty_level']\n",
    "# Fix Label\n",
    "fix_label(trainDataset)"
   ]
  },
  {
   "cell_type": "code",
   "execution_count": 5,
   "id": "1f32653a-14e8-4fc2-8a43-d44154bf7952",
   "metadata": {},
   "outputs": [],
   "source": [
    "# Read Test Dataset\n",
    "testDataset = pd.read_csv('./datasets/KDDTest+.csv', header=None, names=column_names)\n",
    "# Remove last column Difficult level\n",
    "del testDataset['difficulty_level']\n",
    "# Fix Label\n",
    "fix_label(testDataset)"
   ]
  },
  {
   "cell_type": "code",
   "execution_count": null,
   "id": "71942db3-842e-4533-8e1b-8af1aaf895e0",
   "metadata": {},
   "outputs": [],
   "source": []
  },
  {
   "cell_type": "code",
   "execution_count": 6,
   "id": "d360ca7a-3859-4705-9fbf-b96bac2d7dd9",
   "metadata": {},
   "outputs": [
    {
     "data": {
      "text/plain": [
       "(125973, 42)"
      ]
     },
     "execution_count": 6,
     "metadata": {},
     "output_type": "execute_result"
    }
   ],
   "source": [
    "trainDataset.shape"
   ]
  },
  {
   "cell_type": "code",
   "execution_count": 7,
   "id": "52612dcc-17b0-4848-8e17-0b1527a4c666",
   "metadata": {},
   "outputs": [
    {
     "data": {
      "text/plain": [
       "(22544, 42)"
      ]
     },
     "execution_count": 7,
     "metadata": {},
     "output_type": "execute_result"
    }
   ],
   "source": [
    "testDataset.shape"
   ]
  },
  {
   "cell_type": "code",
   "execution_count": 8,
   "id": "3892d863-018d-4e5d-a263-c6dd273cce26",
   "metadata": {},
   "outputs": [
    {
     "data": {
      "text/plain": [
       "label\n",
       "Normal    67343\n",
       "Dos       45927\n",
       "Probe     11656\n",
       "R2L         995\n",
       "U2R          52\n",
       "Name: count, dtype: int64"
      ]
     },
     "execution_count": 8,
     "metadata": {},
     "output_type": "execute_result"
    }
   ],
   "source": [
    "trainDataset['label'].value_counts()"
   ]
  },
  {
   "cell_type": "code",
   "execution_count": 9,
   "id": "0d39c05d-6387-43f5-9bfd-8b9e49a947df",
   "metadata": {},
   "outputs": [
    {
     "data": {
      "text/plain": [
       "label\n",
       "Normal    9711\n",
       "Dos       7458\n",
       "R2L       2887\n",
       "Probe     2421\n",
       "U2R         67\n",
       "Name: count, dtype: int64"
      ]
     },
     "execution_count": 9,
     "metadata": {},
     "output_type": "execute_result"
    }
   ],
   "source": [
    "testDataset['label'].value_counts()"
   ]
  },
  {
   "cell_type": "markdown",
   "id": "10cf0413-3edd-4d3f-a5dd-a8e47e70bcce",
   "metadata": {},
   "source": [
    "### Label Encoding attack type"
   ]
  },
  {
   "cell_type": "code",
   "execution_count": 10,
   "id": "1335f43c-b62e-421b-becc-ecac278ebf66",
   "metadata": {},
   "outputs": [],
   "source": [
    "label_mapping = {'Normal': 0, 'Dos': 1, 'Probe': 2, 'R2L': 3, 'U2R': 4}\n",
    "trainDataset['label'] = trainDataset['label'].map(label_mapping)\n",
    "testDataset['label'] = testDataset['label'].map(label_mapping)"
   ]
  },
  {
   "cell_type": "code",
   "execution_count": 11,
   "id": "d8703ee9-19e3-4b35-b837-e65bdf30af54",
   "metadata": {},
   "outputs": [
    {
     "data": {
      "text/plain": [
       "label\n",
       "0    67343\n",
       "1    45927\n",
       "2    11656\n",
       "3      995\n",
       "4       52\n",
       "Name: count, dtype: int64"
      ]
     },
     "execution_count": 11,
     "metadata": {},
     "output_type": "execute_result"
    }
   ],
   "source": [
    "trainDataset['label'].value_counts()"
   ]
  },
  {
   "cell_type": "code",
   "execution_count": 12,
   "id": "1fce0c26-4c8b-41ec-9e76-21292a74ca64",
   "metadata": {},
   "outputs": [
    {
     "data": {
      "text/plain": [
       "label\n",
       "0    9711\n",
       "1    7458\n",
       "3    2887\n",
       "2    2421\n",
       "4      67\n",
       "Name: count, dtype: int64"
      ]
     },
     "execution_count": 12,
     "metadata": {},
     "output_type": "execute_result"
    }
   ],
   "source": [
    "testDataset['label'].value_counts()"
   ]
  },
  {
   "cell_type": "markdown",
   "id": "d063375b-03ae-4a15-98df-b19db96630c2",
   "metadata": {},
   "source": [
    "### One Hot Encoding"
   ]
  },
  {
   "cell_type": "code",
   "execution_count": 13,
   "id": "a3e4115f-e183-4930-b6a3-7a1ee50b9c28",
   "metadata": {},
   "outputs": [],
   "source": [
    "# concat trainDataset and testDataset -> all categories types -> same shape after encoding\n",
    "columns_to_encode = ['protocol_type', 'service', 'flag']\n",
    "encodedDataset = pd.get_dummies(pd.concat([trainDataset, testDataset]), columns=columns_to_encode).astype(int)"
   ]
  },
  {
   "cell_type": "code",
   "execution_count": 14,
   "id": "d122912e-090a-4be7-865d-4cb841cffeb5",
   "metadata": {},
   "outputs": [
    {
     "data": {
      "text/html": [
       "<div>\n",
       "<style scoped>\n",
       "    .dataframe tbody tr th:only-of-type {\n",
       "        vertical-align: middle;\n",
       "    }\n",
       "\n",
       "    .dataframe tbody tr th {\n",
       "        vertical-align: top;\n",
       "    }\n",
       "\n",
       "    .dataframe thead th {\n",
       "        text-align: right;\n",
       "    }\n",
       "</style>\n",
       "<table border=\"1\" class=\"dataframe\">\n",
       "  <thead>\n",
       "    <tr style=\"text-align: right;\">\n",
       "      <th></th>\n",
       "      <th>duration</th>\n",
       "      <th>src_bytes</th>\n",
       "      <th>dst_bytes</th>\n",
       "      <th>land</th>\n",
       "      <th>wrong_fragment</th>\n",
       "      <th>urgent</th>\n",
       "      <th>hot</th>\n",
       "      <th>num_failed_logins</th>\n",
       "      <th>logged_in</th>\n",
       "      <th>num_compromised</th>\n",
       "      <th>...</th>\n",
       "      <th>flag_REJ</th>\n",
       "      <th>flag_RSTO</th>\n",
       "      <th>flag_RSTOS0</th>\n",
       "      <th>flag_RSTR</th>\n",
       "      <th>flag_S0</th>\n",
       "      <th>flag_S1</th>\n",
       "      <th>flag_S2</th>\n",
       "      <th>flag_S3</th>\n",
       "      <th>flag_SF</th>\n",
       "      <th>flag_SH</th>\n",
       "    </tr>\n",
       "  </thead>\n",
       "  <tbody>\n",
       "    <tr>\n",
       "      <th>0</th>\n",
       "      <td>0</td>\n",
       "      <td>491</td>\n",
       "      <td>0</td>\n",
       "      <td>0</td>\n",
       "      <td>0</td>\n",
       "      <td>0</td>\n",
       "      <td>0</td>\n",
       "      <td>0</td>\n",
       "      <td>0</td>\n",
       "      <td>0</td>\n",
       "      <td>...</td>\n",
       "      <td>0</td>\n",
       "      <td>0</td>\n",
       "      <td>0</td>\n",
       "      <td>0</td>\n",
       "      <td>0</td>\n",
       "      <td>0</td>\n",
       "      <td>0</td>\n",
       "      <td>0</td>\n",
       "      <td>1</td>\n",
       "      <td>0</td>\n",
       "    </tr>\n",
       "    <tr>\n",
       "      <th>1</th>\n",
       "      <td>0</td>\n",
       "      <td>146</td>\n",
       "      <td>0</td>\n",
       "      <td>0</td>\n",
       "      <td>0</td>\n",
       "      <td>0</td>\n",
       "      <td>0</td>\n",
       "      <td>0</td>\n",
       "      <td>0</td>\n",
       "      <td>0</td>\n",
       "      <td>...</td>\n",
       "      <td>0</td>\n",
       "      <td>0</td>\n",
       "      <td>0</td>\n",
       "      <td>0</td>\n",
       "      <td>0</td>\n",
       "      <td>0</td>\n",
       "      <td>0</td>\n",
       "      <td>0</td>\n",
       "      <td>1</td>\n",
       "      <td>0</td>\n",
       "    </tr>\n",
       "    <tr>\n",
       "      <th>2</th>\n",
       "      <td>0</td>\n",
       "      <td>0</td>\n",
       "      <td>0</td>\n",
       "      <td>0</td>\n",
       "      <td>0</td>\n",
       "      <td>0</td>\n",
       "      <td>0</td>\n",
       "      <td>0</td>\n",
       "      <td>0</td>\n",
       "      <td>0</td>\n",
       "      <td>...</td>\n",
       "      <td>0</td>\n",
       "      <td>0</td>\n",
       "      <td>0</td>\n",
       "      <td>0</td>\n",
       "      <td>1</td>\n",
       "      <td>0</td>\n",
       "      <td>0</td>\n",
       "      <td>0</td>\n",
       "      <td>0</td>\n",
       "      <td>0</td>\n",
       "    </tr>\n",
       "    <tr>\n",
       "      <th>3</th>\n",
       "      <td>0</td>\n",
       "      <td>232</td>\n",
       "      <td>8153</td>\n",
       "      <td>0</td>\n",
       "      <td>0</td>\n",
       "      <td>0</td>\n",
       "      <td>0</td>\n",
       "      <td>0</td>\n",
       "      <td>1</td>\n",
       "      <td>0</td>\n",
       "      <td>...</td>\n",
       "      <td>0</td>\n",
       "      <td>0</td>\n",
       "      <td>0</td>\n",
       "      <td>0</td>\n",
       "      <td>0</td>\n",
       "      <td>0</td>\n",
       "      <td>0</td>\n",
       "      <td>0</td>\n",
       "      <td>1</td>\n",
       "      <td>0</td>\n",
       "    </tr>\n",
       "    <tr>\n",
       "      <th>4</th>\n",
       "      <td>0</td>\n",
       "      <td>199</td>\n",
       "      <td>420</td>\n",
       "      <td>0</td>\n",
       "      <td>0</td>\n",
       "      <td>0</td>\n",
       "      <td>0</td>\n",
       "      <td>0</td>\n",
       "      <td>1</td>\n",
       "      <td>0</td>\n",
       "      <td>...</td>\n",
       "      <td>0</td>\n",
       "      <td>0</td>\n",
       "      <td>0</td>\n",
       "      <td>0</td>\n",
       "      <td>0</td>\n",
       "      <td>0</td>\n",
       "      <td>0</td>\n",
       "      <td>0</td>\n",
       "      <td>1</td>\n",
       "      <td>0</td>\n",
       "    </tr>\n",
       "    <tr>\n",
       "      <th>...</th>\n",
       "      <td>...</td>\n",
       "      <td>...</td>\n",
       "      <td>...</td>\n",
       "      <td>...</td>\n",
       "      <td>...</td>\n",
       "      <td>...</td>\n",
       "      <td>...</td>\n",
       "      <td>...</td>\n",
       "      <td>...</td>\n",
       "      <td>...</td>\n",
       "      <td>...</td>\n",
       "      <td>...</td>\n",
       "      <td>...</td>\n",
       "      <td>...</td>\n",
       "      <td>...</td>\n",
       "      <td>...</td>\n",
       "      <td>...</td>\n",
       "      <td>...</td>\n",
       "      <td>...</td>\n",
       "      <td>...</td>\n",
       "      <td>...</td>\n",
       "    </tr>\n",
       "    <tr>\n",
       "      <th>22539</th>\n",
       "      <td>0</td>\n",
       "      <td>794</td>\n",
       "      <td>333</td>\n",
       "      <td>0</td>\n",
       "      <td>0</td>\n",
       "      <td>0</td>\n",
       "      <td>0</td>\n",
       "      <td>0</td>\n",
       "      <td>1</td>\n",
       "      <td>0</td>\n",
       "      <td>...</td>\n",
       "      <td>0</td>\n",
       "      <td>0</td>\n",
       "      <td>0</td>\n",
       "      <td>0</td>\n",
       "      <td>0</td>\n",
       "      <td>0</td>\n",
       "      <td>0</td>\n",
       "      <td>0</td>\n",
       "      <td>1</td>\n",
       "      <td>0</td>\n",
       "    </tr>\n",
       "    <tr>\n",
       "      <th>22540</th>\n",
       "      <td>0</td>\n",
       "      <td>317</td>\n",
       "      <td>938</td>\n",
       "      <td>0</td>\n",
       "      <td>0</td>\n",
       "      <td>0</td>\n",
       "      <td>0</td>\n",
       "      <td>0</td>\n",
       "      <td>1</td>\n",
       "      <td>0</td>\n",
       "      <td>...</td>\n",
       "      <td>0</td>\n",
       "      <td>0</td>\n",
       "      <td>0</td>\n",
       "      <td>0</td>\n",
       "      <td>0</td>\n",
       "      <td>0</td>\n",
       "      <td>0</td>\n",
       "      <td>0</td>\n",
       "      <td>1</td>\n",
       "      <td>0</td>\n",
       "    </tr>\n",
       "    <tr>\n",
       "      <th>22541</th>\n",
       "      <td>0</td>\n",
       "      <td>54540</td>\n",
       "      <td>8314</td>\n",
       "      <td>0</td>\n",
       "      <td>0</td>\n",
       "      <td>0</td>\n",
       "      <td>2</td>\n",
       "      <td>0</td>\n",
       "      <td>1</td>\n",
       "      <td>1</td>\n",
       "      <td>...</td>\n",
       "      <td>0</td>\n",
       "      <td>0</td>\n",
       "      <td>0</td>\n",
       "      <td>0</td>\n",
       "      <td>0</td>\n",
       "      <td>0</td>\n",
       "      <td>0</td>\n",
       "      <td>0</td>\n",
       "      <td>1</td>\n",
       "      <td>0</td>\n",
       "    </tr>\n",
       "    <tr>\n",
       "      <th>22542</th>\n",
       "      <td>0</td>\n",
       "      <td>42</td>\n",
       "      <td>42</td>\n",
       "      <td>0</td>\n",
       "      <td>0</td>\n",
       "      <td>0</td>\n",
       "      <td>0</td>\n",
       "      <td>0</td>\n",
       "      <td>0</td>\n",
       "      <td>0</td>\n",
       "      <td>...</td>\n",
       "      <td>0</td>\n",
       "      <td>0</td>\n",
       "      <td>0</td>\n",
       "      <td>0</td>\n",
       "      <td>0</td>\n",
       "      <td>0</td>\n",
       "      <td>0</td>\n",
       "      <td>0</td>\n",
       "      <td>1</td>\n",
       "      <td>0</td>\n",
       "    </tr>\n",
       "    <tr>\n",
       "      <th>22543</th>\n",
       "      <td>0</td>\n",
       "      <td>0</td>\n",
       "      <td>0</td>\n",
       "      <td>0</td>\n",
       "      <td>0</td>\n",
       "      <td>0</td>\n",
       "      <td>0</td>\n",
       "      <td>0</td>\n",
       "      <td>0</td>\n",
       "      <td>0</td>\n",
       "      <td>...</td>\n",
       "      <td>1</td>\n",
       "      <td>0</td>\n",
       "      <td>0</td>\n",
       "      <td>0</td>\n",
       "      <td>0</td>\n",
       "      <td>0</td>\n",
       "      <td>0</td>\n",
       "      <td>0</td>\n",
       "      <td>0</td>\n",
       "      <td>0</td>\n",
       "    </tr>\n",
       "  </tbody>\n",
       "</table>\n",
       "<p>148517 rows × 123 columns</p>\n",
       "</div>"
      ],
      "text/plain": [
       "       duration  src_bytes  dst_bytes  land  wrong_fragment  urgent  hot  \\\n",
       "0             0        491          0     0               0       0    0   \n",
       "1             0        146          0     0               0       0    0   \n",
       "2             0          0          0     0               0       0    0   \n",
       "3             0        232       8153     0               0       0    0   \n",
       "4             0        199        420     0               0       0    0   \n",
       "...         ...        ...        ...   ...             ...     ...  ...   \n",
       "22539         0        794        333     0               0       0    0   \n",
       "22540         0        317        938     0               0       0    0   \n",
       "22541         0      54540       8314     0               0       0    2   \n",
       "22542         0         42         42     0               0       0    0   \n",
       "22543         0          0          0     0               0       0    0   \n",
       "\n",
       "       num_failed_logins  logged_in  num_compromised  ...  flag_REJ  \\\n",
       "0                      0          0                0  ...         0   \n",
       "1                      0          0                0  ...         0   \n",
       "2                      0          0                0  ...         0   \n",
       "3                      0          1                0  ...         0   \n",
       "4                      0          1                0  ...         0   \n",
       "...                  ...        ...              ...  ...       ...   \n",
       "22539                  0          1                0  ...         0   \n",
       "22540                  0          1                0  ...         0   \n",
       "22541                  0          1                1  ...         0   \n",
       "22542                  0          0                0  ...         0   \n",
       "22543                  0          0                0  ...         1   \n",
       "\n",
       "       flag_RSTO  flag_RSTOS0  flag_RSTR  flag_S0  flag_S1  flag_S2  flag_S3  \\\n",
       "0              0            0          0        0        0        0        0   \n",
       "1              0            0          0        0        0        0        0   \n",
       "2              0            0          0        1        0        0        0   \n",
       "3              0            0          0        0        0        0        0   \n",
       "4              0            0          0        0        0        0        0   \n",
       "...          ...          ...        ...      ...      ...      ...      ...   \n",
       "22539          0            0          0        0        0        0        0   \n",
       "22540          0            0          0        0        0        0        0   \n",
       "22541          0            0          0        0        0        0        0   \n",
       "22542          0            0          0        0        0        0        0   \n",
       "22543          0            0          0        0        0        0        0   \n",
       "\n",
       "       flag_SF  flag_SH  \n",
       "0            1        0  \n",
       "1            1        0  \n",
       "2            0        0  \n",
       "3            1        0  \n",
       "4            1        0  \n",
       "...        ...      ...  \n",
       "22539        1        0  \n",
       "22540        1        0  \n",
       "22541        1        0  \n",
       "22542        1        0  \n",
       "22543        0        0  \n",
       "\n",
       "[148517 rows x 123 columns]"
      ]
     },
     "execution_count": 14,
     "metadata": {},
     "output_type": "execute_result"
    }
   ],
   "source": [
    "encodedDataset"
   ]
  },
  {
   "cell_type": "code",
   "execution_count": 15,
   "id": "c5e6275e-2767-4c26-991f-ad4ebb9f27d4",
   "metadata": {},
   "outputs": [],
   "source": [
    "#split\n",
    "trainDataset = encodedDataset.iloc[:len(trainDataset)]\n",
    "testDataset = encodedDataset.iloc[len(trainDataset):]"
   ]
  },
  {
   "cell_type": "code",
   "execution_count": 16,
   "id": "b7f2694d-f941-4365-8d22-42956504f6bf",
   "metadata": {},
   "outputs": [
    {
     "data": {
      "text/plain": [
       "(125973, 123)"
      ]
     },
     "execution_count": 16,
     "metadata": {},
     "output_type": "execute_result"
    }
   ],
   "source": [
    "trainDataset.shape"
   ]
  },
  {
   "cell_type": "code",
   "execution_count": 17,
   "id": "d141c206-a999-4585-bd1a-0e29c5a780f4",
   "metadata": {},
   "outputs": [
    {
     "data": {
      "text/plain": [
       "(22544, 123)"
      ]
     },
     "execution_count": 17,
     "metadata": {},
     "output_type": "execute_result"
    }
   ],
   "source": [
    "testDataset.shape"
   ]
  },
  {
   "cell_type": "code",
   "execution_count": 18,
   "id": "6ee065d7-faa8-4d00-b753-859abe39f9b6",
   "metadata": {},
   "outputs": [
    {
     "data": {
      "text/plain": [
       "Index(['duration', 'src_bytes', 'dst_bytes', 'land', 'wrong_fragment',\n",
       "       'urgent', 'hot', 'num_failed_logins', 'logged_in', 'num_compromised',\n",
       "       'root_shell', 'su_attempted', 'num_root', 'num_file_creations',\n",
       "       'num_shells', 'num_access_files', 'num_outbound_cmds', 'is_host_login',\n",
       "       'is_guest_login', 'count', 'srv_count', 'serror_rate',\n",
       "       'srv_serror_rate', 'rerror_rate', 'srv_rerror_rate', 'same_srv_rate',\n",
       "       'diff_srv_rate', 'srv_diff_host_rate', 'dst_host_count',\n",
       "       'dst_host_srv_count', 'dst_host_same_srv_rate',\n",
       "       'dst_host_diff_srv_rate', 'dst_host_same_src_port_rate',\n",
       "       'dst_host_srv_diff_host_rate', 'dst_host_serror_rate',\n",
       "       'dst_host_srv_serror_rate', 'dst_host_rerror_rate',\n",
       "       'dst_host_srv_rerror_rate', 'label'],\n",
       "      dtype='object')"
      ]
     },
     "execution_count": 18,
     "metadata": {},
     "output_type": "execute_result"
    }
   ],
   "source": [
    "encodedDataset.columns[:39]"
   ]
  },
  {
   "cell_type": "markdown",
   "id": "4349a99f-0bf6-47ab-a6c6-d6d972d38c65",
   "metadata": {},
   "source": [
    "### Logarithming Scaling"
   ]
  },
  {
   "cell_type": "code",
   "execution_count": 19,
   "id": "fd85aa63-ff14-4c40-a01e-58afa5ca5fde",
   "metadata": {},
   "outputs": [
    {
     "data": {
      "text/html": [
       "<div>\n",
       "<style scoped>\n",
       "    .dataframe tbody tr th:only-of-type {\n",
       "        vertical-align: middle;\n",
       "    }\n",
       "\n",
       "    .dataframe tbody tr th {\n",
       "        vertical-align: top;\n",
       "    }\n",
       "\n",
       "    .dataframe thead th {\n",
       "        text-align: right;\n",
       "    }\n",
       "</style>\n",
       "<table border=\"1\" class=\"dataframe\">\n",
       "  <thead>\n",
       "    <tr style=\"text-align: right;\">\n",
       "      <th></th>\n",
       "      <th>duration</th>\n",
       "      <th>src_bytes</th>\n",
       "      <th>dst_bytes</th>\n",
       "      <th>land</th>\n",
       "      <th>wrong_fragment</th>\n",
       "      <th>urgent</th>\n",
       "      <th>hot</th>\n",
       "      <th>num_failed_logins</th>\n",
       "      <th>logged_in</th>\n",
       "      <th>num_compromised</th>\n",
       "      <th>...</th>\n",
       "      <th>flag_REJ</th>\n",
       "      <th>flag_RSTO</th>\n",
       "      <th>flag_RSTOS0</th>\n",
       "      <th>flag_RSTR</th>\n",
       "      <th>flag_S0</th>\n",
       "      <th>flag_S1</th>\n",
       "      <th>flag_S2</th>\n",
       "      <th>flag_S3</th>\n",
       "      <th>flag_SF</th>\n",
       "      <th>flag_SH</th>\n",
       "    </tr>\n",
       "  </thead>\n",
       "  <tbody>\n",
       "    <tr>\n",
       "      <th>0</th>\n",
       "      <td>0</td>\n",
       "      <td>491</td>\n",
       "      <td>0</td>\n",
       "      <td>0</td>\n",
       "      <td>0</td>\n",
       "      <td>0</td>\n",
       "      <td>0</td>\n",
       "      <td>0</td>\n",
       "      <td>0</td>\n",
       "      <td>0</td>\n",
       "      <td>...</td>\n",
       "      <td>0</td>\n",
       "      <td>0</td>\n",
       "      <td>0</td>\n",
       "      <td>0</td>\n",
       "      <td>0</td>\n",
       "      <td>0</td>\n",
       "      <td>0</td>\n",
       "      <td>0</td>\n",
       "      <td>1</td>\n",
       "      <td>0</td>\n",
       "    </tr>\n",
       "    <tr>\n",
       "      <th>1</th>\n",
       "      <td>0</td>\n",
       "      <td>146</td>\n",
       "      <td>0</td>\n",
       "      <td>0</td>\n",
       "      <td>0</td>\n",
       "      <td>0</td>\n",
       "      <td>0</td>\n",
       "      <td>0</td>\n",
       "      <td>0</td>\n",
       "      <td>0</td>\n",
       "      <td>...</td>\n",
       "      <td>0</td>\n",
       "      <td>0</td>\n",
       "      <td>0</td>\n",
       "      <td>0</td>\n",
       "      <td>0</td>\n",
       "      <td>0</td>\n",
       "      <td>0</td>\n",
       "      <td>0</td>\n",
       "      <td>1</td>\n",
       "      <td>0</td>\n",
       "    </tr>\n",
       "    <tr>\n",
       "      <th>2</th>\n",
       "      <td>0</td>\n",
       "      <td>0</td>\n",
       "      <td>0</td>\n",
       "      <td>0</td>\n",
       "      <td>0</td>\n",
       "      <td>0</td>\n",
       "      <td>0</td>\n",
       "      <td>0</td>\n",
       "      <td>0</td>\n",
       "      <td>0</td>\n",
       "      <td>...</td>\n",
       "      <td>0</td>\n",
       "      <td>0</td>\n",
       "      <td>0</td>\n",
       "      <td>0</td>\n",
       "      <td>1</td>\n",
       "      <td>0</td>\n",
       "      <td>0</td>\n",
       "      <td>0</td>\n",
       "      <td>0</td>\n",
       "      <td>0</td>\n",
       "    </tr>\n",
       "    <tr>\n",
       "      <th>3</th>\n",
       "      <td>0</td>\n",
       "      <td>232</td>\n",
       "      <td>8153</td>\n",
       "      <td>0</td>\n",
       "      <td>0</td>\n",
       "      <td>0</td>\n",
       "      <td>0</td>\n",
       "      <td>0</td>\n",
       "      <td>1</td>\n",
       "      <td>0</td>\n",
       "      <td>...</td>\n",
       "      <td>0</td>\n",
       "      <td>0</td>\n",
       "      <td>0</td>\n",
       "      <td>0</td>\n",
       "      <td>0</td>\n",
       "      <td>0</td>\n",
       "      <td>0</td>\n",
       "      <td>0</td>\n",
       "      <td>1</td>\n",
       "      <td>0</td>\n",
       "    </tr>\n",
       "    <tr>\n",
       "      <th>4</th>\n",
       "      <td>0</td>\n",
       "      <td>199</td>\n",
       "      <td>420</td>\n",
       "      <td>0</td>\n",
       "      <td>0</td>\n",
       "      <td>0</td>\n",
       "      <td>0</td>\n",
       "      <td>0</td>\n",
       "      <td>1</td>\n",
       "      <td>0</td>\n",
       "      <td>...</td>\n",
       "      <td>0</td>\n",
       "      <td>0</td>\n",
       "      <td>0</td>\n",
       "      <td>0</td>\n",
       "      <td>0</td>\n",
       "      <td>0</td>\n",
       "      <td>0</td>\n",
       "      <td>0</td>\n",
       "      <td>1</td>\n",
       "      <td>0</td>\n",
       "    </tr>\n",
       "    <tr>\n",
       "      <th>...</th>\n",
       "      <td>...</td>\n",
       "      <td>...</td>\n",
       "      <td>...</td>\n",
       "      <td>...</td>\n",
       "      <td>...</td>\n",
       "      <td>...</td>\n",
       "      <td>...</td>\n",
       "      <td>...</td>\n",
       "      <td>...</td>\n",
       "      <td>...</td>\n",
       "      <td>...</td>\n",
       "      <td>...</td>\n",
       "      <td>...</td>\n",
       "      <td>...</td>\n",
       "      <td>...</td>\n",
       "      <td>...</td>\n",
       "      <td>...</td>\n",
       "      <td>...</td>\n",
       "      <td>...</td>\n",
       "      <td>...</td>\n",
       "      <td>...</td>\n",
       "    </tr>\n",
       "    <tr>\n",
       "      <th>125968</th>\n",
       "      <td>0</td>\n",
       "      <td>0</td>\n",
       "      <td>0</td>\n",
       "      <td>0</td>\n",
       "      <td>0</td>\n",
       "      <td>0</td>\n",
       "      <td>0</td>\n",
       "      <td>0</td>\n",
       "      <td>0</td>\n",
       "      <td>0</td>\n",
       "      <td>...</td>\n",
       "      <td>0</td>\n",
       "      <td>0</td>\n",
       "      <td>0</td>\n",
       "      <td>0</td>\n",
       "      <td>1</td>\n",
       "      <td>0</td>\n",
       "      <td>0</td>\n",
       "      <td>0</td>\n",
       "      <td>0</td>\n",
       "      <td>0</td>\n",
       "    </tr>\n",
       "    <tr>\n",
       "      <th>125969</th>\n",
       "      <td>8</td>\n",
       "      <td>105</td>\n",
       "      <td>145</td>\n",
       "      <td>0</td>\n",
       "      <td>0</td>\n",
       "      <td>0</td>\n",
       "      <td>0</td>\n",
       "      <td>0</td>\n",
       "      <td>0</td>\n",
       "      <td>0</td>\n",
       "      <td>...</td>\n",
       "      <td>0</td>\n",
       "      <td>0</td>\n",
       "      <td>0</td>\n",
       "      <td>0</td>\n",
       "      <td>0</td>\n",
       "      <td>0</td>\n",
       "      <td>0</td>\n",
       "      <td>0</td>\n",
       "      <td>1</td>\n",
       "      <td>0</td>\n",
       "    </tr>\n",
       "    <tr>\n",
       "      <th>125970</th>\n",
       "      <td>0</td>\n",
       "      <td>2231</td>\n",
       "      <td>384</td>\n",
       "      <td>0</td>\n",
       "      <td>0</td>\n",
       "      <td>0</td>\n",
       "      <td>0</td>\n",
       "      <td>0</td>\n",
       "      <td>1</td>\n",
       "      <td>0</td>\n",
       "      <td>...</td>\n",
       "      <td>0</td>\n",
       "      <td>0</td>\n",
       "      <td>0</td>\n",
       "      <td>0</td>\n",
       "      <td>0</td>\n",
       "      <td>0</td>\n",
       "      <td>0</td>\n",
       "      <td>0</td>\n",
       "      <td>1</td>\n",
       "      <td>0</td>\n",
       "    </tr>\n",
       "    <tr>\n",
       "      <th>125971</th>\n",
       "      <td>0</td>\n",
       "      <td>0</td>\n",
       "      <td>0</td>\n",
       "      <td>0</td>\n",
       "      <td>0</td>\n",
       "      <td>0</td>\n",
       "      <td>0</td>\n",
       "      <td>0</td>\n",
       "      <td>0</td>\n",
       "      <td>0</td>\n",
       "      <td>...</td>\n",
       "      <td>0</td>\n",
       "      <td>0</td>\n",
       "      <td>0</td>\n",
       "      <td>0</td>\n",
       "      <td>1</td>\n",
       "      <td>0</td>\n",
       "      <td>0</td>\n",
       "      <td>0</td>\n",
       "      <td>0</td>\n",
       "      <td>0</td>\n",
       "    </tr>\n",
       "    <tr>\n",
       "      <th>125972</th>\n",
       "      <td>0</td>\n",
       "      <td>151</td>\n",
       "      <td>0</td>\n",
       "      <td>0</td>\n",
       "      <td>0</td>\n",
       "      <td>0</td>\n",
       "      <td>0</td>\n",
       "      <td>0</td>\n",
       "      <td>1</td>\n",
       "      <td>0</td>\n",
       "      <td>...</td>\n",
       "      <td>0</td>\n",
       "      <td>0</td>\n",
       "      <td>0</td>\n",
       "      <td>0</td>\n",
       "      <td>0</td>\n",
       "      <td>0</td>\n",
       "      <td>0</td>\n",
       "      <td>0</td>\n",
       "      <td>1</td>\n",
       "      <td>0</td>\n",
       "    </tr>\n",
       "  </tbody>\n",
       "</table>\n",
       "<p>125973 rows × 123 columns</p>\n",
       "</div>"
      ],
      "text/plain": [
       "        duration  src_bytes  dst_bytes  land  wrong_fragment  urgent  hot  \\\n",
       "0              0        491          0     0               0       0    0   \n",
       "1              0        146          0     0               0       0    0   \n",
       "2              0          0          0     0               0       0    0   \n",
       "3              0        232       8153     0               0       0    0   \n",
       "4              0        199        420     0               0       0    0   \n",
       "...          ...        ...        ...   ...             ...     ...  ...   \n",
       "125968         0          0          0     0               0       0    0   \n",
       "125969         8        105        145     0               0       0    0   \n",
       "125970         0       2231        384     0               0       0    0   \n",
       "125971         0          0          0     0               0       0    0   \n",
       "125972         0        151          0     0               0       0    0   \n",
       "\n",
       "        num_failed_logins  logged_in  num_compromised  ...  flag_REJ  \\\n",
       "0                       0          0                0  ...         0   \n",
       "1                       0          0                0  ...         0   \n",
       "2                       0          0                0  ...         0   \n",
       "3                       0          1                0  ...         0   \n",
       "4                       0          1                0  ...         0   \n",
       "...                   ...        ...              ...  ...       ...   \n",
       "125968                  0          0                0  ...         0   \n",
       "125969                  0          0                0  ...         0   \n",
       "125970                  0          1                0  ...         0   \n",
       "125971                  0          0                0  ...         0   \n",
       "125972                  0          1                0  ...         0   \n",
       "\n",
       "        flag_RSTO  flag_RSTOS0  flag_RSTR  flag_S0  flag_S1  flag_S2  flag_S3  \\\n",
       "0               0            0          0        0        0        0        0   \n",
       "1               0            0          0        0        0        0        0   \n",
       "2               0            0          0        1        0        0        0   \n",
       "3               0            0          0        0        0        0        0   \n",
       "4               0            0          0        0        0        0        0   \n",
       "...           ...          ...        ...      ...      ...      ...      ...   \n",
       "125968          0            0          0        1        0        0        0   \n",
       "125969          0            0          0        0        0        0        0   \n",
       "125970          0            0          0        0        0        0        0   \n",
       "125971          0            0          0        1        0        0        0   \n",
       "125972          0            0          0        0        0        0        0   \n",
       "\n",
       "        flag_SF  flag_SH  \n",
       "0             1        0  \n",
       "1             1        0  \n",
       "2             0        0  \n",
       "3             1        0  \n",
       "4             1        0  \n",
       "...         ...      ...  \n",
       "125968        0        0  \n",
       "125969        1        0  \n",
       "125970        1        0  \n",
       "125971        0        0  \n",
       "125972        1        0  \n",
       "\n",
       "[125973 rows x 123 columns]"
      ]
     },
     "execution_count": 19,
     "metadata": {},
     "output_type": "execute_result"
    }
   ],
   "source": [
    "trainDataset"
   ]
  },
  {
   "cell_type": "code",
   "execution_count": 20,
   "id": "c6741caa-bf00-466b-bfcf-75a341284831",
   "metadata": {},
   "outputs": [
    {
     "name": "stdout",
     "output_type": "stream",
     "text": [
      "trainDataset (duration): min= 0 , max= 42908\n",
      "testDataset (duration): min= 0 , max= 57715\n",
      "trainDataset (src_bytes): min= 0 , max= 1379963888\n",
      "testDataset (src_bytes): min= 0 , max= 62825648\n",
      "trainDataset (dst_bytes): min= 0 , max= 1309937401\n",
      "testDataset (dst_bytes): min= 0 , max= 1345927\n"
     ]
    }
   ],
   "source": [
    "print('trainDataset (duration): min=',trainDataset['duration'].min(),', max=',trainDataset['duration'].max())\n",
    "print('testDataset (duration): min=',testDataset['duration'].min(),', max=',testDataset['duration'].max())\n",
    "print('trainDataset (src_bytes): min=',trainDataset['src_bytes'].min(),', max=',trainDataset['src_bytes'].max())\n",
    "print('testDataset (src_bytes): min=',testDataset['src_bytes'].min(),', max=',testDataset['src_bytes'].max())\n",
    "print('trainDataset (dst_bytes): min=',trainDataset['dst_bytes'].min(),', max=',trainDataset['dst_bytes'].max())\n",
    "print('testDataset (dst_bytes): min=',testDataset['dst_bytes'].min(),', max=',testDataset['dst_bytes'].max())"
   ]
  },
  {
   "cell_type": "code",
   "execution_count": 21,
   "id": "da91ffbc-eaf9-4aa7-baf5-83190ca38c2a",
   "metadata": {},
   "outputs": [],
   "source": [
    "# Logarithmic Scaling for duration (+1 to avoid log10(0))\n",
    "trainDataset.loc[:, 'duration'] = np.log10(trainDataset['duration']+1)\n",
    "testDataset.loc[:, 'duration'] = np.log10(testDataset['duration']+1)\n",
    "# Logarithmic Scaling for src_bytes (+1 to avoid log10(0))\n",
    "trainDataset.loc[:, 'src_bytes'] = np.log10(trainDataset['src_bytes']+1)\n",
    "testDataset.loc[:, 'src_bytes'] = np.log10(testDataset['src_bytes']+1)\n",
    "# Logarithmic Scaling for dst_bytes (+1 to avoid log10(0))\n",
    "trainDataset.loc[:, 'dst_bytes'] = np.log10(trainDataset['dst_bytes']+1)\n",
    "testDataset.loc[:, 'dst_bytes'] = np.log10(testDataset['dst_bytes']+1)"
   ]
  },
  {
   "cell_type": "code",
   "execution_count": 22,
   "id": "f8582cfe-d379-40b6-a9d5-6fe1de02ab4b",
   "metadata": {},
   "outputs": [
    {
     "name": "stdout",
     "output_type": "stream",
     "text": [
      "trainDataset (duration): min= 0.0 , max= 4.6325483933594604\n",
      "testDataset (duration): min= 0.0 , max= 4.761296224740867\n",
      "trainDataset (src_bytes): min= 0.0 , max= 9.139867721898897\n",
      "testDataset (src_bytes): min= 0.0 , max= 7.798136983626141\n",
      "trainDataset (dst_bytes): min= 0.0 , max= 9.117250542514133\n",
      "testDataset (dst_bytes): min= 0.0 , max= 6.129021828061026\n"
     ]
    }
   ],
   "source": [
    "print('trainDataset (duration): min=',trainDataset['duration'].min(),', max=',trainDataset['duration'].max())\n",
    "print('testDataset (duration): min=',testDataset['duration'].min(),', max=',testDataset['duration'].max())\n",
    "print('trainDataset (src_bytes): min=',trainDataset['src_bytes'].min(),', max=',trainDataset['src_bytes'].max())\n",
    "print('testDataset (src_bytes): min=',testDataset['src_bytes'].min(),', max=',testDataset['src_bytes'].max())\n",
    "print('trainDataset (dst_bytes): min=',trainDataset['dst_bytes'].min(),', max=',trainDataset['dst_bytes'].max())\n",
    "print('testDataset (dst_bytes): min=',testDataset['dst_bytes'].min(),', max=',testDataset['dst_bytes'].max())"
   ]
  },
  {
   "cell_type": "markdown",
   "id": "a07738cd-c9f0-49d9-9403-defccb8b5296",
   "metadata": {},
   "source": [
    "### Split X_train, y_train, X_test, y_test"
   ]
  },
  {
   "cell_type": "code",
   "execution_count": 23,
   "id": "42b0e815-6bf9-4275-9866-9880fa0820c2",
   "metadata": {},
   "outputs": [],
   "source": [
    "X_train = trainDataset.drop(columns=['label'])\n",
    "y_train = trainDataset['label']\n",
    "X_test = testDataset.drop(columns=['label'])\n",
    "y_test = testDataset['label']"
   ]
  },
  {
   "cell_type": "code",
   "execution_count": 24,
   "id": "849b57a1-fe0c-45df-89ef-04a39080ba54",
   "metadata": {},
   "outputs": [
    {
     "data": {
      "text/html": [
       "<div>\n",
       "<style scoped>\n",
       "    .dataframe tbody tr th:only-of-type {\n",
       "        vertical-align: middle;\n",
       "    }\n",
       "\n",
       "    .dataframe tbody tr th {\n",
       "        vertical-align: top;\n",
       "    }\n",
       "\n",
       "    .dataframe thead th {\n",
       "        text-align: right;\n",
       "    }\n",
       "</style>\n",
       "<table border=\"1\" class=\"dataframe\">\n",
       "  <thead>\n",
       "    <tr style=\"text-align: right;\">\n",
       "      <th></th>\n",
       "      <th>duration</th>\n",
       "      <th>src_bytes</th>\n",
       "      <th>dst_bytes</th>\n",
       "      <th>land</th>\n",
       "      <th>wrong_fragment</th>\n",
       "      <th>urgent</th>\n",
       "      <th>hot</th>\n",
       "      <th>num_failed_logins</th>\n",
       "      <th>logged_in</th>\n",
       "      <th>num_compromised</th>\n",
       "      <th>...</th>\n",
       "      <th>flag_REJ</th>\n",
       "      <th>flag_RSTO</th>\n",
       "      <th>flag_RSTOS0</th>\n",
       "      <th>flag_RSTR</th>\n",
       "      <th>flag_S0</th>\n",
       "      <th>flag_S1</th>\n",
       "      <th>flag_S2</th>\n",
       "      <th>flag_S3</th>\n",
       "      <th>flag_SF</th>\n",
       "      <th>flag_SH</th>\n",
       "    </tr>\n",
       "  </thead>\n",
       "  <tbody>\n",
       "    <tr>\n",
       "      <th>0</th>\n",
       "      <td>0.000000</td>\n",
       "      <td>2.691965</td>\n",
       "      <td>0.000000</td>\n",
       "      <td>0</td>\n",
       "      <td>0</td>\n",
       "      <td>0</td>\n",
       "      <td>0</td>\n",
       "      <td>0</td>\n",
       "      <td>0</td>\n",
       "      <td>0</td>\n",
       "      <td>...</td>\n",
       "      <td>0</td>\n",
       "      <td>0</td>\n",
       "      <td>0</td>\n",
       "      <td>0</td>\n",
       "      <td>0</td>\n",
       "      <td>0</td>\n",
       "      <td>0</td>\n",
       "      <td>0</td>\n",
       "      <td>1</td>\n",
       "      <td>0</td>\n",
       "    </tr>\n",
       "    <tr>\n",
       "      <th>1</th>\n",
       "      <td>0.000000</td>\n",
       "      <td>2.167317</td>\n",
       "      <td>0.000000</td>\n",
       "      <td>0</td>\n",
       "      <td>0</td>\n",
       "      <td>0</td>\n",
       "      <td>0</td>\n",
       "      <td>0</td>\n",
       "      <td>0</td>\n",
       "      <td>0</td>\n",
       "      <td>...</td>\n",
       "      <td>0</td>\n",
       "      <td>0</td>\n",
       "      <td>0</td>\n",
       "      <td>0</td>\n",
       "      <td>0</td>\n",
       "      <td>0</td>\n",
       "      <td>0</td>\n",
       "      <td>0</td>\n",
       "      <td>1</td>\n",
       "      <td>0</td>\n",
       "    </tr>\n",
       "    <tr>\n",
       "      <th>2</th>\n",
       "      <td>0.000000</td>\n",
       "      <td>0.000000</td>\n",
       "      <td>0.000000</td>\n",
       "      <td>0</td>\n",
       "      <td>0</td>\n",
       "      <td>0</td>\n",
       "      <td>0</td>\n",
       "      <td>0</td>\n",
       "      <td>0</td>\n",
       "      <td>0</td>\n",
       "      <td>...</td>\n",
       "      <td>0</td>\n",
       "      <td>0</td>\n",
       "      <td>0</td>\n",
       "      <td>0</td>\n",
       "      <td>1</td>\n",
       "      <td>0</td>\n",
       "      <td>0</td>\n",
       "      <td>0</td>\n",
       "      <td>0</td>\n",
       "      <td>0</td>\n",
       "    </tr>\n",
       "    <tr>\n",
       "      <th>3</th>\n",
       "      <td>0.000000</td>\n",
       "      <td>2.367356</td>\n",
       "      <td>3.911371</td>\n",
       "      <td>0</td>\n",
       "      <td>0</td>\n",
       "      <td>0</td>\n",
       "      <td>0</td>\n",
       "      <td>0</td>\n",
       "      <td>1</td>\n",
       "      <td>0</td>\n",
       "      <td>...</td>\n",
       "      <td>0</td>\n",
       "      <td>0</td>\n",
       "      <td>0</td>\n",
       "      <td>0</td>\n",
       "      <td>0</td>\n",
       "      <td>0</td>\n",
       "      <td>0</td>\n",
       "      <td>0</td>\n",
       "      <td>1</td>\n",
       "      <td>0</td>\n",
       "    </tr>\n",
       "    <tr>\n",
       "      <th>4</th>\n",
       "      <td>0.000000</td>\n",
       "      <td>2.301030</td>\n",
       "      <td>2.624282</td>\n",
       "      <td>0</td>\n",
       "      <td>0</td>\n",
       "      <td>0</td>\n",
       "      <td>0</td>\n",
       "      <td>0</td>\n",
       "      <td>1</td>\n",
       "      <td>0</td>\n",
       "      <td>...</td>\n",
       "      <td>0</td>\n",
       "      <td>0</td>\n",
       "      <td>0</td>\n",
       "      <td>0</td>\n",
       "      <td>0</td>\n",
       "      <td>0</td>\n",
       "      <td>0</td>\n",
       "      <td>0</td>\n",
       "      <td>1</td>\n",
       "      <td>0</td>\n",
       "    </tr>\n",
       "    <tr>\n",
       "      <th>...</th>\n",
       "      <td>...</td>\n",
       "      <td>...</td>\n",
       "      <td>...</td>\n",
       "      <td>...</td>\n",
       "      <td>...</td>\n",
       "      <td>...</td>\n",
       "      <td>...</td>\n",
       "      <td>...</td>\n",
       "      <td>...</td>\n",
       "      <td>...</td>\n",
       "      <td>...</td>\n",
       "      <td>...</td>\n",
       "      <td>...</td>\n",
       "      <td>...</td>\n",
       "      <td>...</td>\n",
       "      <td>...</td>\n",
       "      <td>...</td>\n",
       "      <td>...</td>\n",
       "      <td>...</td>\n",
       "      <td>...</td>\n",
       "      <td>...</td>\n",
       "    </tr>\n",
       "    <tr>\n",
       "      <th>125968</th>\n",
       "      <td>0.000000</td>\n",
       "      <td>0.000000</td>\n",
       "      <td>0.000000</td>\n",
       "      <td>0</td>\n",
       "      <td>0</td>\n",
       "      <td>0</td>\n",
       "      <td>0</td>\n",
       "      <td>0</td>\n",
       "      <td>0</td>\n",
       "      <td>0</td>\n",
       "      <td>...</td>\n",
       "      <td>0</td>\n",
       "      <td>0</td>\n",
       "      <td>0</td>\n",
       "      <td>0</td>\n",
       "      <td>1</td>\n",
       "      <td>0</td>\n",
       "      <td>0</td>\n",
       "      <td>0</td>\n",
       "      <td>0</td>\n",
       "      <td>0</td>\n",
       "    </tr>\n",
       "    <tr>\n",
       "      <th>125969</th>\n",
       "      <td>0.954243</td>\n",
       "      <td>2.025306</td>\n",
       "      <td>2.164353</td>\n",
       "      <td>0</td>\n",
       "      <td>0</td>\n",
       "      <td>0</td>\n",
       "      <td>0</td>\n",
       "      <td>0</td>\n",
       "      <td>0</td>\n",
       "      <td>0</td>\n",
       "      <td>...</td>\n",
       "      <td>0</td>\n",
       "      <td>0</td>\n",
       "      <td>0</td>\n",
       "      <td>0</td>\n",
       "      <td>0</td>\n",
       "      <td>0</td>\n",
       "      <td>0</td>\n",
       "      <td>0</td>\n",
       "      <td>1</td>\n",
       "      <td>0</td>\n",
       "    </tr>\n",
       "    <tr>\n",
       "      <th>125970</th>\n",
       "      <td>0.000000</td>\n",
       "      <td>3.348694</td>\n",
       "      <td>2.585461</td>\n",
       "      <td>0</td>\n",
       "      <td>0</td>\n",
       "      <td>0</td>\n",
       "      <td>0</td>\n",
       "      <td>0</td>\n",
       "      <td>1</td>\n",
       "      <td>0</td>\n",
       "      <td>...</td>\n",
       "      <td>0</td>\n",
       "      <td>0</td>\n",
       "      <td>0</td>\n",
       "      <td>0</td>\n",
       "      <td>0</td>\n",
       "      <td>0</td>\n",
       "      <td>0</td>\n",
       "      <td>0</td>\n",
       "      <td>1</td>\n",
       "      <td>0</td>\n",
       "    </tr>\n",
       "    <tr>\n",
       "      <th>125971</th>\n",
       "      <td>0.000000</td>\n",
       "      <td>0.000000</td>\n",
       "      <td>0.000000</td>\n",
       "      <td>0</td>\n",
       "      <td>0</td>\n",
       "      <td>0</td>\n",
       "      <td>0</td>\n",
       "      <td>0</td>\n",
       "      <td>0</td>\n",
       "      <td>0</td>\n",
       "      <td>...</td>\n",
       "      <td>0</td>\n",
       "      <td>0</td>\n",
       "      <td>0</td>\n",
       "      <td>0</td>\n",
       "      <td>1</td>\n",
       "      <td>0</td>\n",
       "      <td>0</td>\n",
       "      <td>0</td>\n",
       "      <td>0</td>\n",
       "      <td>0</td>\n",
       "    </tr>\n",
       "    <tr>\n",
       "      <th>125972</th>\n",
       "      <td>0.000000</td>\n",
       "      <td>2.181844</td>\n",
       "      <td>0.000000</td>\n",
       "      <td>0</td>\n",
       "      <td>0</td>\n",
       "      <td>0</td>\n",
       "      <td>0</td>\n",
       "      <td>0</td>\n",
       "      <td>1</td>\n",
       "      <td>0</td>\n",
       "      <td>...</td>\n",
       "      <td>0</td>\n",
       "      <td>0</td>\n",
       "      <td>0</td>\n",
       "      <td>0</td>\n",
       "      <td>0</td>\n",
       "      <td>0</td>\n",
       "      <td>0</td>\n",
       "      <td>0</td>\n",
       "      <td>1</td>\n",
       "      <td>0</td>\n",
       "    </tr>\n",
       "  </tbody>\n",
       "</table>\n",
       "<p>125973 rows × 122 columns</p>\n",
       "</div>"
      ],
      "text/plain": [
       "        duration  src_bytes  dst_bytes  land  wrong_fragment  urgent  hot  \\\n",
       "0       0.000000   2.691965   0.000000     0               0       0    0   \n",
       "1       0.000000   2.167317   0.000000     0               0       0    0   \n",
       "2       0.000000   0.000000   0.000000     0               0       0    0   \n",
       "3       0.000000   2.367356   3.911371     0               0       0    0   \n",
       "4       0.000000   2.301030   2.624282     0               0       0    0   \n",
       "...          ...        ...        ...   ...             ...     ...  ...   \n",
       "125968  0.000000   0.000000   0.000000     0               0       0    0   \n",
       "125969  0.954243   2.025306   2.164353     0               0       0    0   \n",
       "125970  0.000000   3.348694   2.585461     0               0       0    0   \n",
       "125971  0.000000   0.000000   0.000000     0               0       0    0   \n",
       "125972  0.000000   2.181844   0.000000     0               0       0    0   \n",
       "\n",
       "        num_failed_logins  logged_in  num_compromised  ...  flag_REJ  \\\n",
       "0                       0          0                0  ...         0   \n",
       "1                       0          0                0  ...         0   \n",
       "2                       0          0                0  ...         0   \n",
       "3                       0          1                0  ...         0   \n",
       "4                       0          1                0  ...         0   \n",
       "...                   ...        ...              ...  ...       ...   \n",
       "125968                  0          0                0  ...         0   \n",
       "125969                  0          0                0  ...         0   \n",
       "125970                  0          1                0  ...         0   \n",
       "125971                  0          0                0  ...         0   \n",
       "125972                  0          1                0  ...         0   \n",
       "\n",
       "        flag_RSTO  flag_RSTOS0  flag_RSTR  flag_S0  flag_S1  flag_S2  flag_S3  \\\n",
       "0               0            0          0        0        0        0        0   \n",
       "1               0            0          0        0        0        0        0   \n",
       "2               0            0          0        1        0        0        0   \n",
       "3               0            0          0        0        0        0        0   \n",
       "4               0            0          0        0        0        0        0   \n",
       "...           ...          ...        ...      ...      ...      ...      ...   \n",
       "125968          0            0          0        1        0        0        0   \n",
       "125969          0            0          0        0        0        0        0   \n",
       "125970          0            0          0        0        0        0        0   \n",
       "125971          0            0          0        1        0        0        0   \n",
       "125972          0            0          0        0        0        0        0   \n",
       "\n",
       "        flag_SF  flag_SH  \n",
       "0             1        0  \n",
       "1             1        0  \n",
       "2             0        0  \n",
       "3             1        0  \n",
       "4             1        0  \n",
       "...         ...      ...  \n",
       "125968        0        0  \n",
       "125969        1        0  \n",
       "125970        1        0  \n",
       "125971        0        0  \n",
       "125972        1        0  \n",
       "\n",
       "[125973 rows x 122 columns]"
      ]
     },
     "execution_count": 24,
     "metadata": {},
     "output_type": "execute_result"
    }
   ],
   "source": [
    "X_train"
   ]
  },
  {
   "cell_type": "code",
   "execution_count": 25,
   "id": "c11e5ae0-5ca3-44a7-b862-42cd5566a624",
   "metadata": {},
   "outputs": [
    {
     "data": {
      "text/plain": [
       "Index(['duration', 'src_bytes', 'dst_bytes', 'land', 'wrong_fragment',\n",
       "       'urgent', 'hot', 'num_failed_logins', 'logged_in', 'num_compromised',\n",
       "       'root_shell', 'su_attempted', 'num_root', 'num_file_creations',\n",
       "       'num_shells', 'num_access_files', 'num_outbound_cmds', 'is_host_login',\n",
       "       'is_guest_login', 'count', 'srv_count', 'serror_rate',\n",
       "       'srv_serror_rate', 'rerror_rate', 'srv_rerror_rate', 'same_srv_rate',\n",
       "       'diff_srv_rate', 'srv_diff_host_rate', 'dst_host_count',\n",
       "       'dst_host_srv_count', 'dst_host_same_srv_rate',\n",
       "       'dst_host_diff_srv_rate', 'dst_host_same_src_port_rate',\n",
       "       'dst_host_srv_diff_host_rate', 'dst_host_serror_rate',\n",
       "       'dst_host_srv_serror_rate', 'dst_host_rerror_rate',\n",
       "       'dst_host_srv_rerror_rate', 'protocol_type_icmp'],\n",
       "      dtype='object')"
      ]
     },
     "execution_count": 25,
     "metadata": {},
     "output_type": "execute_result"
    }
   ],
   "source": [
    "X_train.columns[:39]"
   ]
  },
  {
   "cell_type": "markdown",
   "id": "0d965939-e40e-4c72-8b6a-89fdf2fcf95f",
   "metadata": {},
   "source": [
    "### Feature Scaling"
   ]
  },
  {
   "cell_type": "code",
   "execution_count": 26,
   "id": "42283002-158c-438d-94b6-e9504b0d0495",
   "metadata": {},
   "outputs": [],
   "source": [
    "scaler = StandardScaler()"
   ]
  },
  {
   "cell_type": "code",
   "execution_count": 27,
   "id": "713d7252-24d4-42e9-b2cc-fead912195e4",
   "metadata": {},
   "outputs": [],
   "source": [
    "X_train[X_train.columns[:39]] = scaler.fit_transform(X_train[X_train.columns[:39]])"
   ]
  },
  {
   "cell_type": "code",
   "execution_count": 28,
   "id": "f01cd198-7865-496f-8ca7-655ac8120481",
   "metadata": {},
   "outputs": [],
   "source": [
    "X_test[X_test.columns[:39]] = scaler.transform(X_test[X_test.columns[:39]])"
   ]
  },
  {
   "cell_type": "markdown",
   "id": "8b1d0b8e-74fd-4a84-99f5-faf0caf9f4a5",
   "metadata": {},
   "source": [
    "# Train Models: Default parameters"
   ]
  },
  {
   "cell_type": "markdown",
   "id": "d4b55299-2ca1-4071-be5a-659b6bf6825a",
   "metadata": {},
   "source": [
    "## K-Nearest Neighbors"
   ]
  },
  {
   "cell_type": "code",
   "execution_count": 30,
   "id": "19421293-d911-4b16-8100-c0f0f30b78c1",
   "metadata": {},
   "outputs": [
    {
     "name": "stdout",
     "output_type": "stream",
     "text": [
      "Training K-Nearest Neighbors...\n",
      "Training time for K-Nearest Neighbors: 0.07206559181213379 seconds\n",
      "Accuracy for K-Nearest Neighbors: 0.7441447835344216\n"
     ]
    }
   ],
   "source": [
    "print('Training K-Nearest Neighbors...')\n",
    "start_time = time.time()\n",
    "knn_model = KNeighborsClassifier()\n",
    "knn_model.fit(X_train, y_train)\n",
    "end_time = time.time()\n",
    "knn_training_time_default = end_time - start_time\n",
    "knn_pred = knn_model.predict(X_test)\n",
    "knn_accuracy_default = accuracy_score(y_test, knn_pred)\n",
    "print('Training time for K-Nearest Neighbors:', knn_training_time_default, 'seconds')\n",
    "print('Accuracy for K-Nearest Neighbors:', knn_accuracy_default)"
   ]
  },
  {
   "cell_type": "code",
   "execution_count": 31,
   "id": "4927e6be-d3bd-4746-96dc-80befa25812f",
   "metadata": {},
   "outputs": [
    {
     "name": "stdout",
     "output_type": "stream",
     "text": [
      "Precision for K-Nearest Neighbors: 0.8033102685506447\n",
      "Recall for K-Nearest Neighbors: 0.7441447835344216\n",
      "F1-score for K-Nearest Neighbors: 0.7050719970443756\n"
     ]
    }
   ],
   "source": [
    "knn_precision_default = precision_score(y_test, knn_pred, average='weighted')\n",
    "knn_recall_default = recall_score(y_test, knn_pred, average='weighted')\n",
    "knn_f1_default = f1_score(y_test, knn_pred, average='weighted')\n",
    "print('Precision for K-Nearest Neighbors:', knn_precision_default)\n",
    "print('Recall for K-Nearest Neighbors:', knn_recall_default)\n",
    "print('F1-score for K-Nearest Neighbors:', knn_f1_default)"
   ]
  },
  {
   "cell_type": "markdown",
   "id": "da45201b-f323-457c-9164-3c346657e978",
   "metadata": {},
   "source": [
    "### Confusion matrix"
   ]
  },
  {
   "cell_type": "code",
   "execution_count": 32,
   "id": "e672c771-55e0-4873-bf10-fb0b97d54ce4",
   "metadata": {},
   "outputs": [
    {
     "name": "stdout",
     "output_type": "stream",
     "text": [
      "Confusion Matrix:\n",
      "[[9428   89  186    2    6]\n",
      " [1601 5480  377    0    0]\n",
      " [ 565  180 1676    0    0]\n",
      " [2676    1   29  178    3]\n",
      " [  48    0    0    5   14]]\n"
     ]
    }
   ],
   "source": [
    "conf_matrix = confusion_matrix(y_test, knn_pred)\n",
    "print('Confusion Matrix:')\n",
    "print(conf_matrix)"
   ]
  },
  {
   "cell_type": "code",
   "execution_count": 33,
   "id": "58f6a81e-ef97-4005-bb72-9d6cd08a2763",
   "metadata": {},
   "outputs": [
    {
     "data": {
      "image/png": "[encoded data removed]",
      "text/plain": [
       "<Figure size 1000x500 with 2 Axes>"
      ]
     },
     "metadata": {},
     "output_type": "display_data"
    }
   ],
   "source": [
    "fig, ax = plt.subplots(figsize=(10, 5))\n",
    "ConfusionMatrixDisplay.from_predictions(y_test, knn_pred, ax=ax)\n",
    "ax.xaxis.set_ticklabels(['Normal','Dos','Probe','R2L','U2R'])\n",
    "ax.yaxis.set_ticklabels(['Normal','Dos','Probe','R2L','U2R'])\n",
    "_ = ax.set_title('Confusion Matrix for K-Nearest Neighbors\\n (Default Params)')"
   ]
  },
  {
   "cell_type": "markdown",
   "id": "bf10852e-2025-459c-833d-847befb596ec",
   "metadata": {},
   "source": [
    "## SVM"
   ]
  },
  {
   "cell_type": "code",
   "execution_count": 34,
   "id": "324292b3-d919-4459-b42d-a9ab8dd16717",
   "metadata": {},
   "outputs": [
    {
     "name": "stdout",
     "output_type": "stream",
     "text": [
      "Training SVM...\n",
      "Training time for SVM: 39.773144483566284 seconds\n",
      "Accuracy for SVM: 0.742680979418027\n"
     ]
    }
   ],
   "source": [
    "print('Training SVM...')\n",
    "start_time = time.time()\n",
    "svm_model = SVC()\n",
    "svm_model.fit(X_train, y_train)\n",
    "end_time = time.time()\n",
    "svm_training_time_default = end_time - start_time\n",
    "svm_pred = svm_model.predict(X_test)\n",
    "svm_accuracy_default = accuracy_score(y_test, svm_pred)\n",
    "print('Training time for SVM:', svm_training_time_default, 'seconds')\n",
    "print('Accuracy for SVM:', svm_accuracy_default)"
   ]
  },
  {
   "cell_type": "code",
   "execution_count": 35,
   "id": "27f08c61-a088-4866-a5ee-5fcd618cacc2",
   "metadata": {},
   "outputs": [
    {
     "name": "stdout",
     "output_type": "stream",
     "text": [
      "Precision for SVM: 0.8017743804729061\n",
      "Recall for SVM: 0.742680979418027\n",
      "F1-score forSVM: 0.7031630889095144\n"
     ]
    }
   ],
   "source": [
    "svm_precision_default = precision_score(y_test, svm_pred, average='weighted')\n",
    "svm_recall_default = recall_score(y_test, svm_pred, average='weighted')\n",
    "svm_f1_default = f1_score(y_test, svm_pred, average='weighted')\n",
    "print('Precision for SVM:', svm_precision_default)\n",
    "print('Recall for SVM:', svm_recall_default)\n",
    "print('F1-score forSVM:', svm_f1_default)"
   ]
  },
  {
   "cell_type": "markdown",
   "id": "fbcf8c06-4d71-4699-95ec-9305ed17c4c4",
   "metadata": {},
   "source": [
    "### Confusion matrix"
   ]
  },
  {
   "cell_type": "code",
   "execution_count": 36,
   "id": "e895a7d8-adef-4320-ada6-2d2cf565008a",
   "metadata": {},
   "outputs": [
    {
     "name": "stdout",
     "output_type": "stream",
     "text": [
      "Confusion Matrix:\n",
      "[[9407   89  208    3    4]\n",
      " [1700 5377  381    0    0]\n",
      " [ 464  180 1777    0    0]\n",
      " [2640    0   73  174    0]\n",
      " [  54    0    0    5    8]]\n"
     ]
    }
   ],
   "source": [
    "conf_matrix = confusion_matrix(y_test, svm_pred)\n",
    "print('Confusion Matrix:')\n",
    "print(conf_matrix)"
   ]
  },
  {
   "cell_type": "code",
   "execution_count": 37,
   "id": "9990c433-e78b-421e-9cd2-5b4ac0aa3bdb",
   "metadata": {},
   "outputs": [
    {
     "data": {
      "image/png": "[encoded data removed]",
      "text/plain": [
       "<Figure size 1000x500 with 2 Axes>"
      ]
     },
     "metadata": {},
     "output_type": "display_data"
    }
   ],
   "source": [
    "fig, ax = plt.subplots(figsize=(10, 5))\n",
    "ConfusionMatrixDisplay.from_predictions(y_test, svm_pred, ax=ax)\n",
    "ax.xaxis.set_ticklabels(['Normal','Dos','Probe','R2L','U2R'])\n",
    "ax.yaxis.set_ticklabels(['Normal','Dos','Probe','R2L','U2R'])\n",
    "_ = ax.set_title('Confusion Matrix for SVM \\n (Default Params)')"
   ]
  },
  {
   "cell_type": "markdown",
   "id": "c57363a2-a7f1-4e2f-8c37-73ac2a04537b",
   "metadata": {},
   "source": [
    "## Plot"
   ]
  },
  {
   "cell_type": "code",
   "execution_count": 38,
   "id": "0bb80144-3227-47d3-9b45-f43102869e7d",
   "metadata": {},
   "outputs": [
    {
     "data": {
      "image/png": "[encoded data removed]",
      "text/plain": [
       "<Figure size 640x480 with 1 Axes>"
      ]
     },
     "metadata": {},
     "output_type": "display_data"
    }
   ],
   "source": [
    "# model names\n",
    "models = ['KNN', 'SVM']\n",
    "# accuracies\n",
    "accuracies = [knn_accuracy_default, svm_accuracy_default]\n",
    "\n",
    "# Plotting the bars\n",
    "plt.figure()\n",
    "bars = plt.bar(models, accuracies, color='C0')\n",
    "plt.xlabel('Model')\n",
    "plt.ylabel('Accuracy')\n",
    "plt.title('Train Models: Default Parameters')\n",
    "plt.ylim(0, 1.0)\n",
    "plt.grid(axis='y', linestyle='--', alpha=0.4)\n",
    "plt.xticks(rotation=45, ha='right')\n",
    "plt.tight_layout()\n",
    "\n",
    "# Adding accuracy values on top of the bars\n",
    "for bar, accuracy in zip(bars, accuracies):\n",
    "    plt.text(bar.get_x() + bar.get_width() / 2, bar.get_height(), f'{accuracy*100:.2f}', \n",
    "             ha='center', va='bottom')\n",
    "\n",
    "plt.show()"
   ]
  },
  {
   "cell_type": "markdown",
   "id": "01c47c59-c46c-4b8a-97fd-94c7c6f55218",
   "metadata": {},
   "source": [
    "# Train Models: SMOTE"
   ]
  },
  {
   "cell_type": "markdown",
   "id": "a573fccd-df88-4fe7-a482-24731ea58ff2",
   "metadata": {},
   "source": [
    "## SMOTE"
   ]
  },
  {
   "cell_type": "code",
   "execution_count": 39,
   "id": "7097cc5c-595a-4388-b468-576351802e1f",
   "metadata": {},
   "outputs": [],
   "source": [
    "# Reset X_train,X_test,Y_train,y_test\n",
    "X_train = trainDataset.drop(columns=['label'])\n",
    "y_train = trainDataset['label']\n",
    "X_test = testDataset.drop(columns=['label'])\n",
    "y_test = testDataset['label']"
   ]
  },
  {
   "cell_type": "code",
   "execution_count": 40,
   "id": "bac38220-8644-41fe-8176-7fdd51f7115d",
   "metadata": {},
   "outputs": [
    {
     "data": {
      "text/plain": [
       "label\n",
       "0    67343\n",
       "1    45927\n",
       "2    11656\n",
       "3      995\n",
       "4       52\n",
       "Name: count, dtype: int64"
      ]
     },
     "execution_count": 40,
     "metadata": {},
     "output_type": "execute_result"
    }
   ],
   "source": [
    "y_train.value_counts() # label_mapping = {'Normal': 0, 'Dos': 1, 'Probe': 2, 'R2L': 3, 'U2R': 4}"
   ]
  },
  {
   "cell_type": "markdown",
   "id": "b205448c-1b12-4311-8514-11c737e5c5d0",
   "metadata": {},
   "source": [
    "### Plot: Before Smote"
   ]
  },
  {
   "cell_type": "code",
   "execution_count": 41,
   "id": "da14a163-80dc-4fbe-97ef-cc6179c1cdd7",
   "metadata": {},
   "outputs": [
    {
     "data": {
      "image/png": "[encoded data removed]",
      "text/plain": [
       "<Figure size 640x480 with 1 Axes>"
      ]
     },
     "metadata": {},
     "output_type": "display_data"
    }
   ],
   "source": [
    "# Attack type\n",
    "labels = ['Normal', 'Dos', 'Probe', 'R2L', 'U2R']\n",
    "# counts\n",
    "counts = list(y_train.value_counts())\n",
    "\n",
    "plt.figure()\n",
    "plt.bar(labels, counts, color='C0')\n",
    "plt.xlabel('Label')\n",
    "plt.ylabel('Value Counts')\n",
    "plt.title('Before SMOTE')\n",
    "plt.grid(axis='y', linestyle='--', alpha=0.7)\n",
    "plt.xticks(rotation=45, ha='right')\n",
    "plt.tight_layout()\n",
    "plt.show()"
   ]
  },
  {
   "cell_type": "markdown",
   "id": "63d47ffd-6e38-42ea-9f27-87756e1f2354",
   "metadata": {},
   "source": [
    "### Applying SMOTE"
   ]
  },
  {
   "cell_type": "code",
   "execution_count": 42,
   "id": "ae6be3b3-d5c9-443a-9fb1-7b8b23c42a41",
   "metadata": {},
   "outputs": [],
   "source": [
    "# Define the SMOTE\n",
    "smote = SMOTE(sampling_strategy={2: 30000, 3: 30000, 4: 30000})\n",
    "# Apply SMOTE\n",
    "X_train, y_train = smote.fit_resample(X_train, y_train)"
   ]
  },
  {
   "cell_type": "code",
   "execution_count": 43,
   "id": "0276890d-aad6-4f67-aa9c-3ac1f1a52e08",
   "metadata": {},
   "outputs": [
    {
     "data": {
      "text/plain": [
       "label\n",
       "0    67343\n",
       "1    45927\n",
       "3    30000\n",
       "2    30000\n",
       "4    30000\n",
       "Name: count, dtype: int64"
      ]
     },
     "execution_count": 43,
     "metadata": {},
     "output_type": "execute_result"
    }
   ],
   "source": [
    "y_train.value_counts() # label_mapping = {'Normal': 0, 'Dos': 1, 'Probe': 2, 'R2L': 3, 'U2R': 4}"
   ]
  },
  {
   "cell_type": "markdown",
   "id": "204d5517-09d2-4def-9995-3fb2f8836c25",
   "metadata": {},
   "source": [
    "### Plot: After SMOTE"
   ]
  },
  {
   "cell_type": "code",
   "execution_count": 44,
   "id": "613a5968-2890-45cc-afc0-e515bcd1ec3b",
   "metadata": {},
   "outputs": [
    {
     "data": {
      "image/png": "[encoded data removed]",
      "text/plain": [
       "<Figure size 640x480 with 1 Axes>"
      ]
     },
     "metadata": {},
     "output_type": "display_data"
    }
   ],
   "source": [
    "# Attack type\n",
    "labels = ['Normal', 'Dos', 'Probe', 'R2L', 'U2R']\n",
    "# counts\n",
    "counts = list(y_train.value_counts())\n",
    "\n",
    "plt.figure()\n",
    "plt.bar(labels, counts, color='C0')\n",
    "plt.xlabel('Label')\n",
    "plt.ylabel('Value Counts')\n",
    "plt.title('After SMOTE')\n",
    "plt.grid(axis='y', linestyle='--', alpha=0.7)\n",
    "plt.xticks(rotation=45, ha='right')\n",
    "plt.tight_layout()\n",
    "plt.show()"
   ]
  },
  {
   "cell_type": "markdown",
   "id": "45105106-bab9-402b-9d5b-247d9901c63d",
   "metadata": {},
   "source": [
    "## Feature Scaling"
   ]
  },
  {
   "cell_type": "code",
   "execution_count": 45,
   "id": "904622ad-5912-48ef-8097-78d1c9ace828",
   "metadata": {},
   "outputs": [],
   "source": [
    "# We have reset the X_train,X_test, we used SMOTE and we have to use feature scaling again. Feature scaling is used after SMOTE\n",
    "scaler = StandardScaler()\n",
    "\n",
    "X_train[X_train.columns[:39]] = scaler.fit_transform(X_train[X_train.columns[:39]])\n",
    "X_test[X_test.columns[:39]] = scaler.transform(X_test[X_test.columns[:39]])"
   ]
  },
  {
   "cell_type": "markdown",
   "id": "977f0a6e-08d8-40bf-b5d9-22df0c029fb3",
   "metadata": {},
   "source": [
    "## K-Nearest Neighbors"
   ]
  },
  {
   "cell_type": "code",
   "execution_count": 46,
   "id": "ee23a9c3-0f10-47d6-b2db-7c652506c018",
   "metadata": {},
   "outputs": [
    {
     "name": "stdout",
     "output_type": "stream",
     "text": [
      "Training K-Nearest Neighbors...\n",
      "Training time for K-Nearest Neighbors: 0.13712334632873535 seconds\n",
      "Accuracy for K-Nearest Neighbors: 0.8049148332150461\n"
     ]
    }
   ],
   "source": [
    "print('Training K-Nearest Neighbors...')\n",
    "start_time = time.time()\n",
    "knn_model = KNeighborsClassifier()\n",
    "knn_model.fit(X_train, y_train)\n",
    "end_time = time.time()\n",
    "knn_training_time_smote = end_time - start_time\n",
    "knn_pred = knn_model.predict(X_test)\n",
    "knn_accuracy_default_smote = accuracy_score(y_test, knn_pred)\n",
    "print('Training time for K-Nearest Neighbors:', knn_training_time_smote, 'seconds')\n",
    "print('Accuracy for K-Nearest Neighbors:', knn_accuracy_default_smote)"
   ]
  },
  {
   "cell_type": "code",
   "execution_count": 47,
   "id": "616ffba3-9ffb-472d-9dfb-3e6064ae6d58",
   "metadata": {},
   "outputs": [
    {
     "name": "stdout",
     "output_type": "stream",
     "text": [
      "Precision for K-Nearest Neighbors: 0.8290013295818394\n",
      "Recall for K-Nearest Neighbors: 0.8049148332150461\n",
      "F1-score for K-Nearest Neighbors: 0.7972959577010462\n"
     ]
    }
   ],
   "source": [
    "knn_precision_default_smote = precision_score(y_test, knn_pred, average='weighted')\n",
    "knn_recall_default_smote = recall_score(y_test, knn_pred, average='weighted')\n",
    "knn_f1_default_smote = f1_score(y_test, knn_pred, average='weighted')\n",
    "print('Precision for K-Nearest Neighbors:', knn_precision_default_smote)\n",
    "print('Recall for K-Nearest Neighbors:', knn_recall_default_smote)\n",
    "print('F1-score for K-Nearest Neighbors:', knn_f1_default_smote)"
   ]
  },
  {
   "cell_type": "code",
   "execution_count": 48,
   "id": "feafd545-aba1-42ca-b71b-e191bb36a6b3",
   "metadata": {},
   "outputs": [
    {
     "name": "stdout",
     "output_type": "stream",
     "text": [
      "Accuracy (Default Params): 0.7441447835344216\n",
      "Accuracy (Default Params with SMOTE): 0.8049148332150461\n"
     ]
    }
   ],
   "source": [
    "print('Accuracy (Default Params):', knn_accuracy_default)\n",
    "print('Accuracy (Default Params with SMOTE):', knn_accuracy_default_smote)"
   ]
  },
  {
   "cell_type": "markdown",
   "id": "1577157c-ca1e-45d2-95d0-8c897408c686",
   "metadata": {},
   "source": [
    "### Confusion matrix"
   ]
  },
  {
   "cell_type": "code",
   "execution_count": 49,
   "id": "fd16cac7-85d2-492f-ba26-9313ed1295f7",
   "metadata": {},
   "outputs": [
    {
     "name": "stdout",
     "output_type": "stream",
     "text": [
      "Confusion Matrix:\n",
      "[[9410   88  192   11   10]\n",
      " [1433 5485  383  157    0]\n",
      " [ 325  180 1916    0    0]\n",
      " [1457    0   80 1309   41]\n",
      " [  22    0    0   19   26]]\n"
     ]
    }
   ],
   "source": [
    "conf_matrix = confusion_matrix(y_test, knn_pred)\n",
    "print('Confusion Matrix:')\n",
    "print(conf_matrix)"
   ]
  },
  {
   "cell_type": "code",
   "execution_count": 57,
   "id": "5d5b8864-e613-426d-a767-ebc2c82078a1",
   "metadata": {},
   "outputs": [
    {
     "data": {
      "image/png": "[encoded data removed]",
      "text/plain": [
       "<Figure size 1000x500 with 2 Axes>"
      ]
     },
     "metadata": {},
     "output_type": "display_data"
    }
   ],
   "source": [
    "fig, ax = plt.subplots(figsize=(10, 5))\n",
    "ConfusionMatrixDisplay.from_predictions(y_test, knn_pred, ax=ax)\n",
    "ax.xaxis.set_ticklabels(['Normal','Dos','Probe','R2L','U2R'])\n",
    "ax.yaxis.set_ticklabels(['Normal','Dos','Probe','R2L','U2R'])\n",
    "_ = ax.set_title('Confusion Matrix for K-Nearest Neighbors\\n (Default Params with SMOTE)')"
   ]
  },
  {
   "cell_type": "markdown",
   "id": "d5edaddc-c0a1-4934-b155-7f890721aebe",
   "metadata": {},
   "source": [
    "## SVM"
   ]
  },
  {
   "cell_type": "code",
   "execution_count": 51,
   "id": "2491ff12-ff1e-4e8c-80bb-00be064a1c82",
   "metadata": {},
   "outputs": [
    {
     "name": "stdout",
     "output_type": "stream",
     "text": [
      "Training SVM...\n",
      "Training time for SVM: 115.98540449142456 seconds\n",
      "Accuracy for SVM: 0.7748846699787083\n"
     ]
    }
   ],
   "source": [
    "print('Training SVM...')\n",
    "start_time = time.time()\n",
    "svm_model = SVC()\n",
    "svm_model.fit(X_train, y_train)\n",
    "end_time = time.time()\n",
    "svm_training_time_smote = end_time - start_time\n",
    "svm_pred = svm_model.predict(X_test)\n",
    "svm_accuracy_default_smote = accuracy_score(y_test, svm_pred)\n",
    "print('Training time for SVM:', svm_training_time_smote, 'seconds')\n",
    "print('Accuracy for SVM:', svm_accuracy_default_smote)"
   ]
  },
  {
   "cell_type": "code",
   "execution_count": 52,
   "id": "ae577dc8-12b6-433e-8d82-c72d5b305449",
   "metadata": {},
   "outputs": [
    {
     "name": "stdout",
     "output_type": "stream",
     "text": [
      "Precision for SVM: 0.8166139880113196\n",
      "Recall for SVM: 0.7748846699787083\n",
      "F1-score forSVM: 0.7583427265994297\n"
     ]
    }
   ],
   "source": [
    "svm_precision_default_smote = precision_score(y_test, svm_pred, average='weighted')\n",
    "svm_recall_default_smote = recall_score(y_test, svm_pred, average='weighted')\n",
    "svm_f1_default_smote = f1_score(y_test, svm_pred, average='weighted')\n",
    "print('Precision for SVM:', svm_precision_default_smote)\n",
    "print('Recall for SVM:', svm_recall_default_smote)\n",
    "print('F1-score forSVM:', svm_f1_default_smote)"
   ]
  },
  {
   "cell_type": "code",
   "execution_count": 53,
   "id": "4c51c302-1750-4bac-bd64-81f94fb9356f",
   "metadata": {},
   "outputs": [
    {
     "name": "stdout",
     "output_type": "stream",
     "text": [
      "Accuracy (Default Params): 0.742680979418027\n",
      "Accuracy (Default Params with SMOTE): 0.7748846699787083\n"
     ]
    }
   ],
   "source": [
    "print('Accuracy (Default Params):', svm_accuracy_default)\n",
    "print('Accuracy (Default Params with SMOTE):', svm_accuracy_default_smote)"
   ]
  },
  {
   "cell_type": "markdown",
   "id": "44e43ee9-dc9d-4db8-afd6-44d606bfcf8c",
   "metadata": {},
   "source": [
    "### Confusion matrix"
   ]
  },
  {
   "cell_type": "code",
   "execution_count": 54,
   "id": "81d4626b-920c-455a-8a34-b76a5d4b286c",
   "metadata": {},
   "outputs": [
    {
     "name": "stdout",
     "output_type": "stream",
     "text": [
      "Confusion Matrix:\n",
      "[[9390   89  213    6   13]\n",
      " [1521 5386  519   32    0]\n",
      " [ 387  180 1854    0    0]\n",
      " [1978    0   77  815   17]\n",
      " [  38    0    0    5   24]]\n"
     ]
    }
   ],
   "source": [
    "conf_matrix = confusion_matrix(y_test, svm_pred)\n",
    "print('Confusion Matrix:')\n",
    "print(conf_matrix)"
   ]
  },
  {
   "cell_type": "code",
   "execution_count": 55,
   "id": "482d067a-e0d9-4907-b7df-b287e66e0467",
   "metadata": {},
   "outputs": [
    {
     "data": {
      "image/png": "[encoded data removed]",
      "text/plain": [
       "<Figure size 1000x500 with 2 Axes>"
      ]
     },
     "metadata": {},
     "output_type": "display_data"
    }
   ],
   "source": [
    "fig, ax = plt.subplots(figsize=(10, 5))\n",
    "ConfusionMatrixDisplay.from_predictions(y_test, svm_pred, ax=ax)\n",
    "ax.xaxis.set_ticklabels(['Normal','Dos','Probe','R2L','U2R'])\n",
    "ax.yaxis.set_ticklabels(['Normal','Dos','Probe','R2L','U2R'])\n",
    "_ = ax.set_title('Confusion Matrix for SVM \\n (Default Params with SMOTE)')"
   ]
  },
  {
   "cell_type": "markdown",
   "id": "36d43382-9de6-485f-b756-81bbe0da24c2",
   "metadata": {},
   "source": [
    "## Plot"
   ]
  },
  {
   "cell_type": "code",
   "execution_count": 56,
   "id": "be22f02d-1e50-4ab5-bd3a-699d62593a87",
   "metadata": {},
   "outputs": [
    {
     "data": {
      "image/png": "[encoded data removed]",
      "text/plain": [
       "<Figure size 640x480 with 1 Axes>"
      ]
     },
     "metadata": {},
     "output_type": "display_data"
    }
   ],
   "source": [
    "# model names\n",
    "models = ['KNN','KNN (SMOTE)', 'SVM',  'SVM (SMOTE)']\n",
    "# accuracies\n",
    "accuracies = [knn_accuracy_default, knn_accuracy_default_smote, svm_accuracy_default, svm_accuracy_default_smote]\n",
    "\n",
    "# Plotting the bars\n",
    "plt.figure()\n",
    "bars = plt.bar(models, accuracies, color='C0')\n",
    "plt.xlabel('Model')\n",
    "plt.ylabel('Accuracy')\n",
    "plt.title('Train Models: Default Parameters')\n",
    "plt.ylim(0, 1.0)\n",
    "plt.grid(axis='y', linestyle='--', alpha=0.4)\n",
    "plt.xticks(rotation=45, ha='right')\n",
    "plt.tight_layout()\n",
    "\n",
    "# Adding accuracy values on top of the bars\n",
    "for bar, accuracy in zip(bars, accuracies):\n",
    "    plt.text(bar.get_x() + bar.get_width() / 2, bar.get_height(), f'{accuracy*100:.2f}', \n",
    "             ha='center', va='bottom')\n",
    "\n",
    "plt.show()"
   ]
  },
  {
   "cell_type": "code",
   "execution_count": null,
   "id": "c52cb16d-bff9-495e-ab6b-375624e630c0",
   "metadata": {},
   "outputs": [],
   "source": []
  }
 ],
 "metadata": {
  "kernelspec": {
   "display_name": "Python 3 (ipykernel)",
   "language": "python",
   "name": "python3"
  },
  "language_info": {
   "codemirror_mode": {
    "name": "ipython",
    "version": 3
   },
   "file_extension": ".py",
   "mimetype": "text/x-python",
   "name": "python",
   "nbconvert_exporter": "python",
   "pygments_lexer": "ipython3",
   "version": "3.10.9"
  }
 },
 "nbformat": 4,
 "nbformat_minor": 5
}
